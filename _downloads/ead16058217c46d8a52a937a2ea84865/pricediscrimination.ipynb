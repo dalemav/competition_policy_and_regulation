{
 "cells": [
  {
   "cell_type": "markdown",
   "metadata": {},
   "source": [
    "# Python: price discrimination\n",
    "\n",
    "In this notebook we consider a monopolist who can use second degree price discrimination. That is, the firm cannot observe a consumer's type. But the firm can make different offers that are attractive for different customers. Think of your mobile phone: do you want to pay either a low fee per month and high price per call or a high fee per month and low fee per call.\n",
    "\n",
    "\n",
    "The European Commission does not like price discrimination and tries to abolish it. In this notebook we compare welfare under both price discrimination and non-discrimination (the case where the firm cannot price discriminate)."
   ]
  },
  {
   "cell_type": "code",
   "execution_count": 1,
   "metadata": {
    "collapsed": false
   },
   "outputs": [],
   "source": [
    "from scipy import optimize,arange\n",
    "from numpy import array\n",
    "import matplotlib.pyplot as plt\n",
    "%matplotlib inline"
   ]
  },
  {
   "cell_type": "markdown",
   "metadata": {},
   "source": [
    "## utility and costs\n",
    "\n",
    "Assume that a consumer of type $n$ derives utility $u(q,t,n) = nq-t$ from consuming a quality $q$ product at price $t$. The cost of producing quality $q$ is given by $c(q)=0.5q^2$.\n",
    "\n",
    "Assume that there are two types of consumers $n_a > 0$ and $n_b > n_a$, where the fraction of $n_a$ consumers is given by $\\phi \\in [0,1]$.\n",
    "\n",
    "The firm creates two versions of the product: quality $q_a$ and $q_b$ at price $t_a,t_b$ resp. If each type buys the version created for this type (we will have constraints to ensure this), profits $\\pi$ and total welfare $W$ are given by\n",
    "\n",
    "$$\n",
    "\\begin{split}\n",
    "\\pi & = \\phi (t_a - 0.5q_a^2)+(1-\\phi)(t_b - 0.5q_b^2)   \\\\\n",
    "W &= \\phi (n_a q_a - 0.5q_a^2)+(1-\\phi)(n_b q_b - 0.5q_b^2)\n",
    "\\end{split}\n",
    "$$\n",
    "\n",
    "Hence, the efficient (welfare maximizing) quality levels satisfy $q_i^* = n_i$. \n"
   ]
  },
  {
   "cell_type": "code",
   "execution_count": 3,
   "metadata": {
    "collapsed": false
   },
   "outputs": [
    {
     "name": "stdout",
     "output_type": "stream",
     "text": [
      "Welfare maximizing qualities are given by:  0.5 ,  1.0\n"
     ]
    }
   ],
   "source": [
    "def u(q,t,n):\n",
    "    return n*q-t\n",
    "\n",
    "def c(q):\n",
    "    return 0.5*q**2\n",
    "\n",
    "def buy(q,t,n): # buy = 1 if type n buys (q,t) and buy = 0 if n does not buy\n",
    "    if u(q,t,n) < 0:\n",
    "        buy = 0\n",
    "    else:\n",
    "        buy = 1\n",
    "    return buy\n",
    "\n",
    "na = 0.5\n",
    "nb = 1.0\n",
    "\n",
    "qa_fb = optimize.minimize_scalar(lambda x: -u(x,c(x),na)).x # the x-attribute of optimize.minimize_scalar gives the value\n",
    "qb_fb = optimize.minimize_scalar(lambda x: -u(x,c(x),nb)).x # for which the function is minimized\n",
    "\n",
    "print \"Welfare maximizing qualities are given by: \", qa_fb, \", \", qb_fb\n",
    "\n",
    "def profit(qa,ta,qb,tb,phi): # these are first best profits: no IC constraints\n",
    "    return phi*buy(qa,ta,na)*(ta-c(qa))+(1-phi)*buy(qb,tb,nb)*(tb-c(qb))\n",
    "\n",
    "def welfare(qa,ta,qb,tb,phi):\n",
    "    return phi*buy(qa,ta,na)*(u(qa,ta,na)+ta-c(qa))+(1-phi)*buy(qb,tb,nb)*(u(qb,tb,nb)+tb-c(qb))"
   ]
  },
  {
   "cell_type": "markdown",
   "metadata": {},
   "source": [
    "## no discrimination\n",
    "\n",
    "First, we consider the case where the firm cannot price discriminate: $q_a=q_b=q$ and $t_a=t_b=t$.\n",
    "\n",
    "The firm has two choices: \n",
    "\n",
    "* set $t$ such that $u(q,t,n_a)=0$ and sell to both consumer types\n",
    "* set $t$ such that $u(q,t,n_b)=0$ and sell to type $n_b$ only\n",
    "\n",
    "When $\\phi = 0.5$, profits are maximized by setting $q=1$ and selling to $n_b$ only:"
   ]
  },
  {
   "cell_type": "code",
   "execution_count": 4,
   "metadata": {
    "collapsed": false
   },
   "outputs": [
    {
     "data": {
      "image/png": "[encoded data removed]",
      "text/plain": [
       "<matplotlib.figure.Figure at 0x10ce85e90>"
      ]
     },
     "metadata": {},
     "output_type": "display_data"
    }
   ],
   "source": [
    "range_q = arange(0.0,1.51,0.01)\n",
    "phi = 0.5\n",
    "range_profits_a = [profit(q,na*q,q,na*q,phi) for q in range_q]\n",
    "range_profits_b = [profit(q,nb*q,q,nb*q,phi) for q in range_q]\n",
    "\n",
    "plt.clf()\n",
    " \n",
    "plt.plot(range_q, range_profits_a,'-', color = 'r', linewidth = 2)\n",
    "plt.plot(range_q, range_profits_b,'-', color = 'b', linewidth = 2)\n",
    "plt.title(\"no price discrimination\",fontsize = 15)\n",
    "plt.xlabel(\"$q$\",fontsize = 15)\n",
    "plt.ylabel(\"$\\pi$\",fontsize = 15,rotation = 90)\n",
    "#plt.xlim(0.0,1.0)\n",
    "#plt.ylim(0.0,1.0)\n",
    "plt.savefig('no_price_discrimination.png')"
   ]
  },
  {
   "cell_type": "markdown",
   "metadata": {},
   "source": [
    "The following function determines the optimal $q$ and $t$ set by the firm in case of non-discrimination. As suggested by the figure, $\\phi=0.5$ implies that $q=1$ and with $t=1$ only type $n_b$ buys the product."
   ]
  },
  {
   "cell_type": "code",
   "execution_count": 6,
   "metadata": {
    "collapsed": false
   },
   "outputs": [
    {
     "name": "stdout",
     "output_type": "stream",
     "text": [
      "optimal quality and price are given by: [0.99999999999999989, 0.99999999999999989]\n"
     ]
    }
   ],
   "source": [
    "def quality_non_discr(phi):\n",
    "    qa = optimize.fminbound(lambda x: -profit(x,na*x,x,na*x,phi),0,2)\n",
    "    qb = optimize.fminbound(lambda x: -profit(x,nb*x,x,nb*x,phi),0,2)\n",
    "    if profit(qa,na*qa,qa,na*qa,phi) >= profit(qb,nb*qb,qb,nb*qb,phi):\n",
    "        quality = qa\n",
    "        t = u(qa,0,na)\n",
    "    else:\n",
    "        quality = qb\n",
    "        t = u(qb,0,nb)\n",
    "    return [quality,t]\n",
    "\n",
    "print \"optimal quality and price are given by:\", quality_non_discr(0.5)\n",
    "    \n",
    "    "
   ]
  },
  {
   "cell_type": "markdown",
   "metadata": {},
   "source": [
    "## price discrimination\n",
    "\n",
    "When the firm can price discriminate, it needs to take 4 constraints into account:\n",
    "\n",
    "* two Individual Rationality (IR) constraints:\n",
    "\n",
    "$$\n",
    "\\begin{split}\n",
    "u(q_a,t_a,n_a) &\\geq 0 \\\\\n",
    "u(q_b,t_b,n_b) &\\geq 0\n",
    "\\end{split}\n",
    "$$\n",
    "\n",
    "* two incentive compatibility (IC) constraints:\n",
    "\n",
    "$$\n",
    "\\begin{split}\n",
    "u(q_a,t_a,n_a) &\\geq u(q_b,t_b,n_a) \\\\\n",
    "u(q_b,t_b,n_b) &\\geq u(q_a,t_a,n_b)\n",
    "\\end{split}\n",
    "$$\n",
    "\n",
    "\n",
    "The IR constraints make sure that both types want to buy at all. The IC constraints make sure that types buy the \"right\" product (i.e. the product meant for them).\n",
    "\n",
    "As shown in the lecture, with $n_b > n_a$, $IR_a$ and $IC_b$ are binding. Hence, $t_a = n_a q_a$ and $t_b = n_b q_b - (n_b-n_a)q_a$.\n",
    "\n",
    "Further, we know from the lecture that $q_b = q_b^*$: first best quality for the highest type (\"no distortion at the top\"). \n",
    "\n",
    "Quality $q_a$ then solves\n",
    "\n",
    "$$\n",
    "\\max_q \\phi(n_a q -c(q))+(1-\\phi)(n_b q_b^* - (n_b-n_a)q - c(q_b^*))\n",
    "$$\n"
   ]
  },
  {
   "cell_type": "code",
   "execution_count": 7,
   "metadata": {
    "collapsed": false
   },
   "outputs": [],
   "source": [
    "def quality_discr(phi):\n",
    "    nh = max(na,nb)\n",
    "    nl = min(na,nb)\n",
    "    opt_h = optimize.minimize_scalar(lambda x: -u(x,c(x),nh)) # first best quality for the highest type\n",
    "    qh = opt_h.x \n",
    "    opt_l = optimize.fminbound(lambda x: -(phi*(u(x,0,nl)-c(x))+(1-phi)*(u(qh,0,nh)-u(x,u(x,0,nl),nh)-c(qh))),0,qh)\n",
    "    ql = opt_l\n",
    "    tl = u(ql,0,nl)\n",
    "    th = u(qh,0,nh)-u(ql,u(ql,0,nl),nh)\n",
    "    return [ql,tl,qh,th]"
   ]
  },
  {
   "cell_type": "markdown",
   "metadata": {},
   "source": [
    "For $\\phi =0.5$, the low type is not served: both $q$ and $t$ are (basically) zero. The high type gets efficient quality $q_b=q_b^*=1.0$ at $t=1.0$.\n",
    "\n",
    "* Why do we find $q_a =0$; a positive profit can be made selling $q_a>0$ at $t_a>0$ to $n_a$?"
   ]
  },
  {
   "cell_type": "code",
   "execution_count": 9,
   "metadata": {
    "collapsed": false
   },
   "outputs": [
    {
     "data": {
      "text/plain": [
       "[5.9608609865491405e-06, 2.9804304932745702e-06, 1.0, 0.99999701956950671]"
      ]
     },
     "execution_count": 9,
     "metadata": {},
     "output_type": "execute_result"
    }
   ],
   "source": [
    "quality_discr(0.5)"
   ]
  },
  {
   "cell_type": "markdown",
   "metadata": {},
   "source": [
    "We can define a function to check whether all constraints are satisfied. In this function, the variables `ira, ica, irb, icb` are booleans. A boolean takes on two values `True` (1) or `False` (0). Using `and` and `or` booleans can be combined.\n",
    "\n",
    "To illustrate, `True and False = False` while `True or False = True`.\n",
    "\n",
    "At $\\phi =0.5$ the menu generated by the function `quality_discr` satisfies all four constraints (as it should):"
   ]
  },
  {
   "cell_type": "code",
   "execution_count": 10,
   "metadata": {
    "collapsed": false
   },
   "outputs": [
    {
     "data": {
      "text/plain": [
       "True"
      ]
     },
     "execution_count": 10,
     "metadata": {},
     "output_type": "execute_result"
    }
   ],
   "source": [
    "def check(menu):\n",
    "    qa = menu[0]\n",
    "    ta = menu[1]\n",
    "    qb = menu[2]\n",
    "    tb = menu[3]\n",
    "    ira = (u(qa,ta,na) >= 0)\n",
    "    ica = (u(qa,ta,na) >= u(qb,tb,na))    \n",
    "    irb = (u(qb,tb,nb) >= 0)\n",
    "    icb = (u(qb,tb,nb) >= u(qa,ta,nb))\n",
    "    return (ira and ica and irb and icb)\n",
    "\n",
    "check(quality_discr(0.5))\n"
   ]
  },
  {
   "cell_type": "markdown",
   "metadata": {},
   "source": [
    "Next we plot the quality level for the low type as a function of $\\phi$."
   ]
  },
  {
   "cell_type": "code",
   "execution_count": 11,
   "metadata": {
    "collapsed": false
   },
   "outputs": [
    {
     "data": {
      "image/png": "[encoded data removed]",
      "text/plain": [
       "<matplotlib.figure.Figure at 0x10ce85310>"
      ]
     },
     "metadata": {},
     "output_type": "display_data"
    }
   ],
   "source": [
    "range_phi = arange(0.0,1.01,0.01)\n",
    "range_ql = [quality_discr(phi)[0] for phi in range_phi]\n",
    "\n",
    "plt.clf()\n",
    " \n",
    "plt.plot(range_phi, range_ql,'-', color = 'r', linewidth = 2)\n",
    "\n",
    "plt.title(\"quality low type\",fontsize = 15)\n",
    "plt.xlabel(\"$\\phi$\",fontsize = 15)\n",
    "plt.ylabel(\"quality\",fontsize = 15,rotation = 90)\n",
    "#plt.xlim(0.0,1.0)\n",
    "#plt.ylim(0.0,1.0)\n",
    "plt.savefig('price_discrimination.png')\n"
   ]
  },
  {
   "cell_type": "markdown",
   "metadata": {},
   "source": [
    "* Why is quality for the low type increasing in $\\phi$?\n",
    "* What happens to $q_b$ as a function of $\\phi$?\n",
    "* What is the quality level $q_a$ at $\\phi =1.0$? Why?"
   ]
  },
  {
   "cell_type": "markdown",
   "metadata": {},
   "source": [
    "## welfare\n",
    "\n",
    "Finally, we compare welfare under discrimination and non-discrimination. We plot welfare in each case as a function of $\\phi$. For each $\\phi$ we consider the profit maximizing quality and price chosen by the firm."
   ]
  },
  {
   "cell_type": "code",
   "execution_count": 12,
   "metadata": {
    "collapsed": false
   },
   "outputs": [
    {
     "data": {
      "image/png": "[encoded data removed]",
      "text/plain": [
       "<matplotlib.figure.Figure at 0x10f002a90>"
      ]
     },
     "metadata": {},
     "output_type": "display_data"
    }
   ],
   "source": [
    "range_phi = arange(0.0,1.01,0.01)\n",
    "range_W_non_disrc = [welfare(quality_non_discr(phi)[0],quality_non_discr(phi)[1],quality_non_discr(phi)[0],quality_non_discr(phi)[1],phi) for phi in range_phi]\n",
    "range_W_discr = [welfare(quality_discr(phi)[0],quality_discr(phi)[1],quality_discr(phi)[2],quality_discr(phi)[3],phi) for phi in range_phi]\n",
    "\n",
    "plt.clf()\n",
    " \n",
    "plt.plot(range_phi, range_W_non_disrc,'-', color = 'r', linewidth = 2)\n",
    "plt.plot(range_phi, range_W_discr,'-', color = 'b', linewidth = 2)\n",
    "\n",
    "\n",
    "plt.title(\"Welfare\",fontsize = 15)\n",
    "plt.xlabel(\"$\\phi$\",fontsize = 15)\n",
    "plt.ylabel(\"$W$\",fontsize = 15,rotation = 90)\n",
    "#plt.xlim(0.0,1.0)\n",
    "#plt.ylim(0.0,1.0)\n",
    "plt.savefig('Welfare_price_discrimination.png')"
   ]
  },
  {
   "cell_type": "markdown",
   "metadata": {},
   "source": [
    "* Why do the welfare levels of discrimination and non-discrimination coincide for $\\phi \\leq 0.5$?\n",
    "* Why is welfare higher under discrimination than non-discrimination for $\\phi > 0.5$?\n",
    "* What explains the jump in welfare for the non-discrimination case around $\\phi = 0.75$? What happens here?\n",
    "* Why do the two welfare levels coincide at $\\phi = 1.0$?\n",
    "* What do you think of the European Commision's bias against price discrimination?"
   ]
  },
  {
   "cell_type": "code",
   "execution_count": null,
   "metadata": {
    "collapsed": false
   },
   "outputs": [],
   "source": []
  }
 ],
 "metadata": {
  "kernelspec": {
   "display_name": "Python 2",
   "language": "python",
   "name": "python2"
  },
  "language_info": {
   "codemirror_mode": {
    "name": "ipython",
    "version": 2
   },
   "file_extension": ".py",
   "mimetype": "text/x-python",
   "name": "python",
   "nbconvert_exporter": "python",
   "pygments_lexer": "ipython2",
   "version": "2.7.6"
  }
 },
 "nbformat": 4,
 "nbformat_minor": 0
}
