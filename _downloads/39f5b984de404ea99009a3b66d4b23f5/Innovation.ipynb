{
 "cells": [
  {
   "cell_type": "markdown",
   "metadata": {},
   "source": [
    "# Python: innovation\n",
    "\n",
    "Here we consider a simple market set up where firms need to invest $f > 0$ to find a product that they can produce. \n",
    "\n",
    "Once the product is invented, a firm can enter the market. We consider three different set ups for the market environment:\n",
    "\n",
    "* Bertrand competition with perfect substitutes\n",
    "* Cournot competition with perfect substitutes\n",
    "* Cournot competition with product differentiation\n",
    "\n",
    "First, we import the standard libraries:"
   ]
  },
  {
   "cell_type": "code",
   "execution_count": 1,
   "metadata": {
    "collapsed": false
   },
   "outputs": [],
   "source": [
    "from scipy import optimize,arange\n",
    "from numpy import array\n",
    "import matplotlib.pyplot as plt\n",
    "%matplotlib inline"
   ]
  },
  {
   "cell_type": "markdown",
   "metadata": {},
   "source": [
    "## utility function\n",
    "\n",
    "We assume that utility takes the form\n",
    "\n",
    "$$\n",
    "u(q) = \\sum_{i=1}^n \\left\\{q_i - 0.5(1-b)q_i^2\\right\\} - 0.5 b(\\sum_{j=1}^n q_j)^2 + y\n",
    "$$\n",
    "\n",
    "where $q_i$ denotes the quantity consumed from firm $i$'s product and $y$ utility from the outside good (\"all other goods in the economy\"). Let $w$ denote the agent's wealth, then we have $y = w - \\sum_{i=1}^n p_i q_i$.\n",
    "\n",
    "* Derive that this utility structure leads to (inverse) demand of the form $p_i = 1 - q_i - b\\sum_{j \\neq i}^n q_j$.\n"
   ]
  },
  {
   "cell_type": "code",
   "execution_count": 2,
   "metadata": {
    "collapsed": false
   },
   "outputs": [],
   "source": [
    "def utility(vector_q):\n",
    "    u = sum([q - 0.5*(1-b)*q**2 for q in vector_q])-0.5*b*(sum(vector_q))**2\n",
    "    return u"
   ]
  },
  {
   "cell_type": "markdown",
   "metadata": {},
   "source": [
    "## demand and costs\n",
    "\n",
    "We assume that firms (once a good is invented) produce with constant marginal costs $c$ which we normalize to 0. There are at max. 5 firms that can enter the industry if they invent a product to enter the market with.\n",
    "\n",
    "The R&D technology is simple: a firm that invests $f>0$ finds a new product (with probability 1.0).\n",
    "\n",
    "The function `profit` defines profits without taking the cost $f$ into account. That is, `profit` is the profit from the production stage. The costs $f$ from the R&D stage are sunk at this moment.\n"
   ]
  },
  {
   "cell_type": "code",
   "execution_count": 22,
   "metadata": {
    "collapsed": false
   },
   "outputs": [],
   "source": [
    "c = 0.0\n",
    "max_N = 5\n",
    "\n",
    "def demand(q,Q_others):\n",
    "    return max(0,1-q-b*Q_others)\n",
    "\n",
    "def cost(q):\n",
    "    return c*q\n",
    "\n",
    "def profit(q,Q_others):\n",
    "    return demand(q,Q_others)*q-cost(q)"
   ]
  },
  {
   "cell_type": "markdown",
   "metadata": {},
   "source": [
    "## equilibrium number of firms\n",
    "\n",
    "We consider three different market environments below, this leads to different profit functions for firms. The next function determines how many firms enter the industry as a function of the function `profit` and the cost $f$. The function `profit` is a function of the number of firms $n$ that enter the market, and this function is passed as an argument to the function `number_of_firms`.\n",
    "\n",
    "The function `number of firms` then determines how many firms can profitably enter: what is the highest number $i$ such that `profit(i)-f` $\\geq 0$?"
   ]
  },
  {
   "cell_type": "code",
   "execution_count": 7,
   "metadata": {
    "collapsed": false
   },
   "outputs": [],
   "source": [
    "def number_of_firms(profit,f): # profit is a function here\n",
    "    for i in range(max_N+1): # if max_N = 5, we need range (0,1,2,3,4,5) = range(max_N+1)\n",
    "        if profit(i+1)-f < 0:\n",
    "            break\n",
    "        else: continue\n",
    "    return i  "
   ]
  },
  {
   "cell_type": "markdown",
   "metadata": {},
   "source": [
    "## Bertrand competition with perfect substitutes\n",
    "\n",
    "We consider perfect substitutes here: $b=1$. With Betrand competition, perfect substitutes and constant marginal costs, a firm's optimal response is: if the lowest price exceeds marginal costs, price somewhere between this price and your marginal costs. This is how we define `reaction_B`. Of course, if you are the only firm in the market (monopolist) there is no need to undercut opponents. With $n=1$ the firm sets the price that maximizes profits (without competitors).\n",
    "\n",
    "If the equilibrium price is given by $p$ while there are $n$ firms active, profits equal $p(1-p)/n-c((1-p)/n)$.\n",
    "\n",
    "The function `profits_Bertrand` gives profits as a function of $n$; hence this function is passed to `number_of_firms` to determine the equilibrium number of firms.\n",
    "\n",
    "The function `price_Bertrand`, first determines how many firms enter the industry and then the equilibrium price under Bertrand competition.\n",
    "\n",
    "With $f = 0.1$, the equilibrium price turns out to be 0.5. \n",
    "\n",
    "* What is this price? \n",
    "* Why don't we find price equal to marginal costs?"
   ]
  },
  {
   "cell_type": "code",
   "execution_count": 26,
   "metadata": {
    "collapsed": false
   },
   "outputs": [
    {
     "name": "stdout",
     "output_type": "stream",
     "text": [
      "The equilibrium price under Bertrand competition with f = 0.1 equals: 0.5\n"
     ]
    }
   ],
   "source": [
    "b = 1.0\n",
    "\n",
    "def reaction_B(i,vector_p):\n",
    "    p = min(vector_p)\n",
    "    if vector_p[i] >= p:\n",
    "        reaction = c+0.5*(p-c)\n",
    "    else:\n",
    "        reaction = c\n",
    "    return reaction\n",
    "    \n",
    "def vector_reaction(vector_p):\n",
    "    if len(vector_p) == 1:\n",
    "        react = optimize.fminbound(lambda x: -profit(x,0),0,1,full_output=1)[0]\n",
    "    else:\n",
    "        react = [reaction_B(i,vector_p) for i in range(len(vector_p))]\n",
    "    return array(vector_p)-array(react)\n",
    "\n",
    "def profits_Bertrand(n):\n",
    "    p0 = [0.1 for i in range(n)]\n",
    "    price = optimize.root(vector_reaction, p0, args=(), method='hybr', jac=None, tol=10**(-10), callback=None, options=None).x[0]\n",
    "    return price*(1-price)/n-cost((1-price)/n)\n",
    "    \n",
    "def price_Bertrand(f):\n",
    "    n = number_of_firms(profits_Bertrand,f)\n",
    "    if n == 0:\n",
    "        print \"no firm is active, price is undetermined\"\n",
    "        price = \"n.a\"\n",
    "    else:\n",
    "        p0 = [0.1 for i in range(n)]\n",
    "        price = optimize.root(vector_reaction, p0, args=(), method='hybr', jac=None, tol=10**(-10), callback=None, options=None).x[0]\n",
    "    return price\n",
    "\n",
    "print \"The equilibrium price under Bertrand competition with f =\", f, \"equals:\", price_Bertrand(0.1)"
   ]
  },
  {
   "cell_type": "markdown",
   "metadata": {},
   "source": [
    "## Cournot competition with perfect substitutes\n",
    "\n",
    "Here we consider Cournot competition with perfect substitutes ($b=1.0$). We define a firm's reaction function: profit maximizing response to its competitors producing the vector $Q_{others}$. Then we look for a fixed point of the optimal response (as we did in the lecture with collusion under Cournot competition). \n",
    "\n",
    "As all active firms have the same marginal costs (equal to zero), we focus here on the symmetric equilibrium where all active firms produce the same output level. Hence, we take the first element \"[0]\" out of the vector output.x, which gives the vector of the fixed point.\n",
    "\n",
    "The function `profits_Cournot` gives profits as a function of the number of active firms $n$. Hence we can pass this function to `number_of_firms` to find the equilibrium number of firms. \n",
    "\n",
    "For a given $f>0$, the function `outcome_Cournot` returns of vector with two elements: equilibrium price and output.\n",
    "\n",
    "The equilibrium price under Cournot competition is lower than under Bertrand competition.\n",
    "\n",
    "* Usually Bertrand gives lower equilibrium prices than Cournot; why is it the other way around here?"
   ]
  },
  {
   "cell_type": "code",
   "execution_count": 28,
   "metadata": {
    "collapsed": false
   },
   "outputs": [
    {
     "name": "stdout",
     "output_type": "stream",
     "text": [
      "The equilibrium price under Cournot competition with f = 0.1 equals: 0.333333333333\n"
     ]
    }
   ],
   "source": [
    "b = 1.0\n",
    "\n",
    "def profit(q,Q_others):\n",
    "    return demand(q,Q_others)*q-cost(q)\n",
    "    \n",
    "def reaction(Q_others):\n",
    "    q =  optimize.fminbound(lambda x, Q_others = Q_others: -profit(x,Q_others),0,1,full_output=1)\n",
    "    if q[1] > 0: # because of minus sign: fval > 0 implies that profit < 0: better produce nothing\n",
    "        q_i = 0\n",
    "    else:\n",
    "        q_i = q[0]\n",
    "    return q_i\n",
    "    \n",
    "def fixed_point(vector_q):\n",
    "    total_q = sum(vector_q)\n",
    "    vector_reaction = [reaction(total_q-vector_q[i]) for i in range(len(vector_q))]\n",
    "    return vector_q-vector_reaction\n",
    "\n",
    "def profits_Cournot(n):\n",
    "    x0 = array([0.1 for i in range(n)])\n",
    "    output = optimize.root(fixed_point, x0, args=(), method='hybr', jac=None, tol=10**(-10), callback=None, options=None).x[0]\n",
    "    return profit(output,(n-1)*output)\n",
    "\n",
    "def outcome_Cournot(f):\n",
    "    n = number_of_firms(profits_Cournot,f)\n",
    "    if n == 0:\n",
    "        print \"no firm is active, price is undetermined\"\n",
    "        price = \"n.a\"\n",
    "    else:\n",
    "        x0 = [0.1 for i in range(n)]\n",
    "        output = optimize.root(fixed_point, x0, args=(), method='hybr', jac=None, tol=10**(-10), callback=None, options=None).x[0]\n",
    "        price = demand(output,(n-1)*output)\n",
    "    return [price,output]\n",
    "\n",
    "print \"The equilibrium price under Cournot competition with f =\", f, \"equals:\", outcome_Cournot(0.1)[0]"
   ]
  },
  {
   "cell_type": "markdown",
   "metadata": {},
   "source": [
    "## Cournot competition with product differentiation\n",
    "\n",
    "Finally, we consider Cournot competition with differentiated products ($b<1$). To present the results in a nice table, we introduce the following class. Don't worry about this; you do not need to know/understand classes in python."
   ]
  },
  {
   "cell_type": "code",
   "execution_count": 29,
   "metadata": {
    "collapsed": false
   },
   "outputs": [],
   "source": [
    "class ListTable(list):\n",
    "    \"\"\" Overridden list class which takes a 2-dimensional list of \n",
    "        the form [[1,2,3],[4,5,6]], and renders an HTML Table in \n",
    "        IPython Notebook. \"\"\"\n",
    "    \n",
    "    def _repr_html_(self):\n",
    "        html = [\"<table>\"]\n",
    "        for row in self:\n",
    "            html.append(\"<tr>\")\n",
    "            \n",
    "            for col in row:\n",
    "                html.append(\"<td>{0}</td>\".format(col))\n",
    "            \n",
    "            html.append(\"</tr>\")\n",
    "        html.append(\"</table>\")\n",
    "        return ''.join(html)"
   ]
  },
  {
   "cell_type": "markdown",
   "metadata": {},
   "source": [
    "We are interested in the question whether the number of firms that enter under Cournot competition is the welfare maximizing number of firms. Hence, we need to define welfare. Here we work with total welfare (sum of producer and consumer surplus); hence the price $p$ drops out as it is a transfer from consumers to producers.\n",
    "\n",
    "If $n$ firms enter under Cournot competition and each firm produces output $q$, total welfare is given by\n",
    "\n",
    "$$\n",
    "W = u(q_1,...,q_n) - \\sum_{i=1}^n (c(q_i)+f)\n",
    "$$"
   ]
  },
  {
   "cell_type": "code",
   "execution_count": 31,
   "metadata": {
    "collapsed": false
   },
   "outputs": [],
   "source": [
    "def W(n,f):\n",
    "    vector_q = [outcome_Cournot(f)[1] for firm in range(n)]\n",
    "    return utility(vector_q)-n*f-sum([cost(q) for q in vector_q])\n",
    "    "
   ]
  },
  {
   "cell_type": "code",
   "execution_count": 32,
   "metadata": {
    "collapsed": false
   },
   "outputs": [
    {
     "name": "stdout",
     "output_type": "stream",
     "text": [
      "3\n"
     ]
    },
    {
     "data": {
      "text/html": [
       "<table><tr><td>n</td><td>welfare</td><td>profits</td></tr><tr><td>1</td><td>0.177777777778</td><td>0.15</td></tr><tr><td>2</td><td>0.3</td><td>0.06</td></tr><tr><td>3</td><td>0.366666666667</td><td>0.0111111111111</td></tr><tr><td>4</td><td>0.377777777778</td><td>-0.0183673469388</td></tr><tr><td>5</td><td>0.333333333333</td><td>-0.0375</td></tr></table>"
      ],
      "text/plain": [
       "[['n', 'welfare', 'profits'],\n",
       " [1, 0.17777777777777773, 0.14999999999999999],\n",
       " [2, 0.29999999999999993, 0.060000000000000026],\n",
       " [3, 0.36666666666666647, 0.011111111111111127],\n",
       " [4, 0.37777777777777766, -0.018367346938775536],\n",
       " [5, 0.33333333333333337, -0.037500000000000006]]"
      ]
     },
     "execution_count": 32,
     "metadata": {},
     "output_type": "execute_result"
    }
   ],
   "source": [
    "f = 0.1\n",
    "b = 0.5\n",
    "print number_of_firms(profits_Cournot,f)\n",
    "table = ListTable()\n",
    "table.append(['n', 'welfare','profits'])\n",
    "for n in range(1,max_N+1):\n",
    "    welfare = W(n,f)\n",
    "    profits = profits_Cournot(n)-f\n",
    "    table.append([n, welfare,profits])\n",
    "table"
   ]
  },
  {
   "cell_type": "markdown",
   "metadata": {},
   "source": [
    "* Why is welfare maximized at $n=4$ while only three firms enter?\n",
    "* What are the relevant externalities in this case?"
   ]
  },
  {
   "cell_type": "code",
   "execution_count": null,
   "metadata": {
    "collapsed": false
   },
   "outputs": [],
   "source": []
  }
 ],
 "metadata": {
  "kernelspec": {
   "display_name": "Python 2",
   "language": "python",
   "name": "python2"
  },
  "language_info": {
   "codemirror_mode": {
    "name": "ipython",
    "version": 2
   },
   "file_extension": ".py",
   "mimetype": "text/x-python",
   "name": "python",
   "nbconvert_exporter": "python",
   "pygments_lexer": "ipython2",
   "version": "2.7.6"
  }
 },
 "nbformat": 4,
 "nbformat_minor": 0
}
