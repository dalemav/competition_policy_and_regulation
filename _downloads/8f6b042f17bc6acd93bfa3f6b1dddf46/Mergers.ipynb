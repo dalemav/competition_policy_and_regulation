{
 "cells": [
  {
   "cell_type": "markdown",
   "metadata": {},
   "source": [
    "# Python: merger simulations\n",
    "\n",
    "In this notebook we introduce a simple model to do merger simulations. The analysis here is based on [Epstein and Rubinfeld (2001)](http://scholarship.law.berkeley.edu/cgi/viewcontent.cgi?article=2362&context=facpubs). \n",
    "\n",
    "The advantage of this approach is that the model can be calibrated with relatively little information. In particular, we need to know \n",
    "\n",
    "* the market shares of the firms in the relevant market,\n",
    "* elasticity of market demand,\n",
    "* own price elasticity for one firm and\n",
    "* efficiency gains (claimed by firms).\n",
    "\n",
    "Once, we know these things, we can simulate the market outcome before and after the merger. If we do not know one or more parameters, we can do sensitivity analysis: simply let the parameter run over a vector of values.\n",
    "\n"
   ]
  },
  {
   "cell_type": "markdown",
   "metadata": {},
   "source": [
    "## what is the use of merger simulation?\n",
    "\n",
    "Merger simulation is not a crystal ball! Economists cannot predict the future. By applying a model to the data that we have, we can think about the problem (effects of the merger, in this case) in a more structured way. In particular, we can think about the merger in a way that others can replicate. \n",
    "\n",
    "However, every model makes assumptions and if these assumptions do not apply, the outcome of the model will be incorrect. In other words, the predictions of the model need to be handled with care.\n",
    "\n",
    "The model that we use here, makes the following assumptions:\n",
    "\n",
    "* (P) Proportionality: if a firm raises its price, it loses market share; this lost market share is allocated to the other firms in the industry proportionally to these firms' market shares\n",
    "* (H) Homogeneity: if all firms in the market raise their price by the same percentage, market shares are unaffected\n",
    "* (A) Adding-up: market shares of all firms (brands) in the market add up to 1.\n",
    "\n",
    "Although these assumptions are not unreasonable, they are not \"innocent\" either.\n",
    "\n",
    "\n"
   ]
  },
  {
   "cell_type": "markdown",
   "metadata": {
    "collapsed": true
   },
   "source": [
    "First, we import some libraries that we will use:"
   ]
  },
  {
   "cell_type": "code",
   "execution_count": 1,
   "metadata": {
    "collapsed": true
   },
   "outputs": [],
   "source": [
    "from scipy import optimize, arange\n",
    "from numpy import array\n",
    "import matplotlib.pyplot as plt\n",
    "from math import log\n",
    "%matplotlib inline"
   ]
  },
  {
   "cell_type": "markdown",
   "metadata": {},
   "source": [
    "## demand\n",
    "\n",
    "In this notebook we assume that there are 3 firms in the market, named \"firm_1, firm_2, firm_3\". If you use this notebook for a real case, make sure you call the firms by their name, like \"microsoft, google, facebook\" etc. This makes the code more readable than working with firms 1,2,3 and forcing the reader at each step to remember that firm 1 was supposed to be microsoft.\n",
    "\n",
    "The market share of firm $i$ is defined as $s_i = \\frac{p_i q_i}{P Q}$, where $p_i$ denotes $i$'s price, $q_i$ its quantity, $Q$ total output on the market and $P$ the aggregate industry price index. We assume that this price index is given by $\\ln(P)=\\sum_{i=1}^3 s_i \\ln(p_i)$. \n",
    "\n",
    "Firm $i$'s demand in this model is written in terms of its market share: \n",
    "\n",
    "\n",
    "\n",
    "$$\n",
    "(D) \\hspace{5mm} s_i = a_i + b_{ii} \\ln(p_i) + b_{ij} \\ln(p_j) + b_{ik} \\ln(p_k)\n",
    "$$\n",
    "\n"
   ]
  },
  {
   "cell_type": "markdown",
   "metadata": {},
   "source": [
    "## calibration\n",
    "\n",
    "Although this demand structure is a bit unusual, it has the following useful property:\n",
    "\n",
    "* if we know\n",
    "\n",
    "    * market demand elasticity $\\varepsilon = \\frac{d \\ln(Q)}{d \\ln (P)}$\n",
    "    * one firm's own price elasticity $\\varepsilon_{ii} = \\frac{d \\ln(q_i)}{d \\ln (p_i)}$\n",
    "    * market shares $s_i \\geq 0$ for $i=1,...,n$ with $\\sum_{i=1}^n s_i =1$\n",
    "    \n",
    "* if we are willing to assume (P), (H) and (A)\n",
    "\n",
    "* then we know all coefficients $b_{ij}$ and demand elasticities $\\varepsilon_{ij}$\n",
    "\n",
    "See the paper for a proof.\n",
    "\n",
    "One way to find firm $i$'s own price elasticity is to estimate $i$'s price cost margin, $\\mu_i$. Since firms set their price (cost margin) satisfying $\\mu_i = -1/\\varepsilon_{ii}$, we know $\\varepsilon_{ii}$ if we know the price cost margin.\n",
    "\n",
    "If you do not know a parameter very well, then define an interval for it and do the merger simulation for each value in the interval. This will give you a good idea of how sensitive the simulation is for the value of this parameter.\n",
    "\n"
   ]
  },
  {
   "cell_type": "markdown",
   "metadata": {},
   "source": [
    "## illustration\n",
    "\n",
    "As an illustration of how a merger simulation works, we will replicate the example in table 1 on page 895 of Epstein and Rubinfeld (2001).\n",
    "\n",
    "Don't worry about this class definition, we use it below to get decent tables with results in the notebook."
   ]
  },
  {
   "cell_type": "code",
   "execution_count": 2,
   "metadata": {
    "collapsed": true
   },
   "outputs": [],
   "source": [
    "class ListTable(list):\n",
    "    \"\"\" Overridden list class which takes a 2-dimensional list of\n",
    "        the form [[1,2,3],[4,5,6]], and renders an HTML Table in\n",
    "        IPython Notebook. \"\"\"\n",
    "\n",
    "    def _repr_html_(self):\n",
    "        html = [\"<table>\"]\n",
    "        for row in self:\n",
    "            html.append(\"<tr>\")\n",
    "\n",
    "            for col in row:\n",
    "                html.append(\"<td>{0}</td>\".format(col))\n",
    "\n",
    "            html.append(\"</tr>\")\n",
    "        html.append(\"</table>\")\n",
    "        return ''.join(html)"
   ]
  },
  {
   "cell_type": "markdown",
   "metadata": {},
   "source": [
    "We create python dictionaries for firms' market shares and elasticities. In this way, we can refer to firm 1's market share as `market_share['firm1']`. We check that the market shares are all between 0 and 1. Further, a firm's own price elasticity is always larger (in absolute value) than the demand elasticity. Indeed, when a firm raises its price by 1%, a consumer can either not buy the product at all or buy it from another firm.\n",
    "\n",
    "The equations for the price elasticities are derived in the paper:\n",
    "\n",
    "$$\n",
    "(E) \\hspace{5mm} \\varepsilon_{ij} = \\begin{cases}\n",
    "-1 + \\frac{b_{ii}}{s_i} + s_i*(\\varepsilon +1) & \\text{ if } i=j \\\\\n",
    "\\frac{b_{ij}}{s_i} + s_j* (\\varepsilon +1) & \\text{ otherwise }\n",
    "\\end{cases}\n",
    "$$\n",
    "\n",
    "If you use this file to do your own merger simulation, adjust the values below."
   ]
  },
  {
   "cell_type": "code",
   "execution_count": 3,
   "metadata": {},
   "outputs": [
    {
     "name": "stdout",
     "output_type": "stream",
     "text": [
      "market share of firm: firm1 is given by 0.20\n",
      "market share of firm: firm2 is given by 0.30\n",
      "market share of firm: firm3 is given by 0.50\n"
     ]
    }
   ],
   "source": [
    "market_share = {} # creates a dictionary with market shares\n",
    "elasticity = {}   # dictionaries of firm level own and cross elasticities\n",
    "\n",
    "firms = ['firm1','firm2','firm3'] # names of the firms in a python list\n",
    "market_share['firm2'] = 0.3\n",
    "market_share['firm3'] = 0.5\n",
    "market_share['firm1'] = 1 - sum(market_share[firm] for firm in ['firm2','firm3'])\n",
    "\n",
    "for firm in firms:\n",
    "    if (market_share[firm] >= 0 and market_share[firm] <= 1):\n",
    "        print(\"market share of firm: \"+ firm + \" is given by {:.2f}\".format(market_share[firm]))\n",
    "    else: print(\"something wrong with the market share of the firm: \" + firm)\n",
    "\n",
    "market_elasticity = -1.0 # market demand elasticity\n",
    "elasticity['firm1','firm1'] = -3.0 # own elasticity of firm1\n",
    "\n",
    "if market_elasticity < elasticity['firm1','firm1']:\n",
    "    print(\"error:  a firm's own elasticity should exceed the market elasticity (in absolute value)\")\n",
    "    \n",
    "if elasticity['firm1','firm1'] > -1.0:\n",
    "    print(\"error:  a firm's own elasticity should be bigger than 1 (in absolute value)\")\n"
   ]
  },
  {
   "cell_type": "markdown",
   "metadata": {},
   "source": [
    "Now we can calculate the relevant parameters of the demand structure. See the paper for the derivation of these expressions.\n",
    "\n",
    "We create a dictionary to store the $b_{ij}$-coefficients in [demand system](#demand) (D) above. Using the $b_{ij}$'s, we calculate the firm level (own and cross) elasticities $\\varepsilon_{ij}$. The assumption is that the $b_{ij}$-coefficients are exogenous, i.e. do not change after the merger.\n",
    "\n",
    "As the merger affects firms' market shares, it does change the firm elasticities."
   ]
  },
  {
   "cell_type": "code",
   "execution_count": 4,
   "metadata": {},
   "outputs": [
    {
     "name": "stdout",
     "output_type": "stream",
     "text": [
      "table of b coefficients:\n"
     ]
    },
    {
     "data": {
      "text/html": [
       "<table><tr><td>b-coeff.</td><td>firm1</td><td>firm2</td><td>firm3</td></tr><tr><td>firm1</td><td>-0.400</td><td>0.150</td><td>0.250</td></tr><tr><td>firm2</td><td>0.150</td><td>-0.525</td><td>0.375</td></tr><tr><td>firm3</td><td>0.250</td><td>0.375</td><td>-0.625</td></tr></table>"
      ],
      "text/plain": [
       "[['b-coeff.', 'firm1', 'firm2', 'firm3'],\n",
       " ['firm1', '-0.400', '0.150', '0.250'],\n",
       " ['firm2', '0.150', '-0.525', '0.375'],\n",
       " ['firm3', '0.250', '0.375', '-0.625']]"
      ]
     },
     "execution_count": 4,
     "metadata": {},
     "output_type": "execute_result"
    }
   ],
   "source": [
    "b = {} # dictionary of b-coefficients of demand system (D) above \n",
    "b['firm1','firm1'] = market_share['firm1']*(elasticity['firm1','firm1']+1-market_share['firm1']*(market_elasticity+1))\n",
    "\n",
    "for firm in firms:\n",
    "    b[firm,firm]=(market_share[firm]*(1-market_share[firm]))/(market_share['firm1']*(1-market_share['firm1']))*b['firm1','firm1']\n",
    "\n",
    "for one_firm in firms:\n",
    "    for other_firm in firms:\n",
    "        if one_firm == other_firm:\n",
    "            b[one_firm,one_firm]=(market_share[one_firm]*(1-market_share[one_firm]))/(market_share['firm1']*(1-market_share['firm1']))*b['firm1','firm1']\n",
    "        else:\n",
    "            b[one_firm,other_firm] = - market_share[one_firm]/(1-market_share[other_firm])*b[other_firm,other_firm]\n",
    "            \n",
    "for one_firm in firms:\n",
    "    for other_firm in firms:\n",
    "        if one_firm == other_firm:\n",
    "            elasticity[one_firm,one_firm] = -1 + b[one_firm,one_firm]/market_share[one_firm]+market_share[one_firm]*(market_elasticity+1)\n",
    "        else:\n",
    "            elasticity[one_firm,other_firm] = b[one_firm,other_firm]/market_share[one_firm]+market_share[other_firm]*(market_elasticity+1)\n",
    "\n",
    "table = ListTable()\n",
    "table.append(['b-coeff.', 'firm1','firm2','firm3'])\n",
    "for one_firm in firms:\n",
    "    row = []\n",
    "    row.append(one_firm)\n",
    "    for other_firm in firms:\n",
    "        row.append(\"%0.3f\" % b[one_firm,other_firm])\n",
    "    table.append(row)\n",
    "print(\"table of b coefficients:\")\n",
    "table"
   ]
  },
  {
   "cell_type": "code",
   "execution_count": 5,
   "metadata": {},
   "outputs": [
    {
     "name": "stdout",
     "output_type": "stream",
     "text": [
      "table of elasticities:\n"
     ]
    },
    {
     "data": {
      "text/html": [
       "<table><tr><td>elast.</td><td>firm1</td><td>firm2</td><td>firm3</td></tr><tr><td>firm1</td><td>-3.000</td><td>0.750</td><td>1.250</td></tr><tr><td>firm2</td><td>0.500</td><td>-2.750</td><td>1.250</td></tr><tr><td>firm3</td><td>0.500</td><td>0.750</td><td>-2.250</td></tr></table>"
      ],
      "text/plain": [
       "[['elast.', 'firm1', 'firm2', 'firm3'],\n",
       " ['firm1', '-3.000', '0.750', '1.250'],\n",
       " ['firm2', '0.500', '-2.750', '1.250'],\n",
       " ['firm3', '0.500', '0.750', '-2.250']]"
      ]
     },
     "execution_count": 5,
     "metadata": {},
     "output_type": "execute_result"
    }
   ],
   "source": [
    "table = ListTable()\n",
    "table.append(['elast.', 'firm1','firm2','firm3'])\n",
    "for one_firm in firms:\n",
    "    row = []\n",
    "    row.append(one_firm)\n",
    "    for other_firm in firms:\n",
    "        row.append(\"%0.3f\" % elasticity[one_firm,other_firm])\n",
    "    table.append(row)\n",
    "print(\"table of elasticities:\")\n",
    "table            "
   ]
  },
  {
   "cell_type": "markdown",
   "metadata": {},
   "source": [
    "A profit maximizing firm $i$ sets its margin equal to $\\mu_i = -1/\\varepsilon_{ii}$. This can be derived as follows. A firm chooses its price level $p_i$ to maximize profits:\n",
    "\n",
    "$$\n",
    "\\pi_i = p_i q_i(p_i,p_{-i}) - c_i(q_i(p_i,p_{-i}))\n",
    "$$\n",
    "\n",
    "First order condition can be written as\n",
    "\n",
    "$$\n",
    "q_i + (p_i - c_q) \\frac{\\partial q_i}{\\partial p_i} = 0\n",
    "$$\n",
    "\n",
    "which can be written as\n",
    "\n",
    "$$\n",
    "\\mu_i = \\frac{p_i - c_q}{p_i} = -\\frac{dp_i}{dq_i} \\frac{q_i}{p_i} = \\frac{-1}{\\varepsilon_{ii}}\n",
    "$$\n",
    "\n",
    "Hence we can calculate the margin for each firm as follows:"
   ]
  },
  {
   "cell_type": "code",
   "execution_count": 6,
   "metadata": {
    "collapsed": true
   },
   "outputs": [],
   "source": [
    "margin = {}\n",
    "for firm in firms:\n",
    "    margin[firm] = -1.0/elasticity[firm,firm]"
   ]
  },
  {
   "cell_type": "markdown",
   "metadata": {},
   "source": [
    "The paper shows that the ex post merger outcome in terms of market share, $s_j^p$, price cost margin, $\\mu_j^p$, and price change $\\delta_j = \\frac{p_j^p - p_j}{p_j}$ (9 variables with 3 firms) satisfies the following 9 equations:\n",
    "\n",
    "\\begin{eqnarray}\n",
    "s_i^p &=& s_i + b_{i1}\\ln(1+ \\delta_1) +  b_{i2} \\ln(1+ \\delta_2) +  b_{i3}\\ln(1+ \\delta_3) ~\\text{for } i=1,2,3\\\\ \\mu_3^p &=& -1/\\varepsilon_{33}^p ~\\text{for the non merging firm} \\\\\n",
    "s_j^p &=&  -\\varepsilon_{jj}^p s_j^p \\mu_j^p -\\varepsilon_{kj}^p s_k^p \\mu_k^p ~\\text{for the merging firms} j,k =1,2, j \\neq k \\\\\n",
    "\\mu_i^p &=& 1- \\frac{1+\\gamma_i}{1+\\delta_i} (1-\\mu_i)  ~\\text{for } i=1,2,3\n",
    "\\end{eqnarray}\n",
    "where the efficiency gain is defined as \n",
    "\n",
    "$$\n",
    "\\gamma_i = \\frac{c_i^p-c_i}{c_i}\n",
    "$$\n",
    "\n",
    "the percentage change in $i$'s costs $c_i$ due to the merger.\n",
    "\n",
    "In addition we have the elasticity equations (E) above with post-merger market shares, denoted $s_j^p$.\n",
    "\n",
    "Details are in the paper, we give a sketch of the proof of the equations above. The equation for $s_i^p$ follows from writing the (D) equations for both $s_i$ --as above-- and for $s_i^p$. Then take the difference of these equations and note that $1+\\delta_i=p^p_i/p_i$ and $\\ln(p_i^p)-\\ln(p_i)=\\ln(1+\\delta_i)$.\n",
    "\n",
    "For the non merging firm we have $\\mu_3 = -1/\\varepsilon_{33}^p$ as before. Now, consider the first order condition for $p_j$ for the merged firm (consisting of $j$ and $k$):\n",
    "\n",
    "$$\n",
    "\\frac{\\partial q_j}{\\partial p_j} (p_j - c_j) + q_j + \\frac{\\partial q_k}{\\partial p_j} (p_k - c_k) = 0\n",
    "$$\n",
    "\n",
    "which can be rewritten as\n",
    "\n",
    "$$\n",
    "s_j^p =  -\\varepsilon_{jj}^p s_j^p \\mu_j^p -\\varepsilon_{kj}^p s_k^p \\mu_k^p\n",
    "$$\n",
    "\n",
    "Finally, the expression for $\\mu_i^p$ follows from the definitions of $\\gamma_i,\\delta_i$ and $\\mu_i$."
   ]
  },
  {
   "cell_type": "code",
   "execution_count": 7,
   "metadata": {
    "collapsed": true
   },
   "outputs": [],
   "source": [
    "merging_firms = ['firm1','firm2']                      # list of the merging firms\n",
    "nonmerging_firms = list(set(firms)-set(merging_firms)) # list of non-merging firms\n",
    "efficiency_gains = {} # dictionary with efficiency gains --due to the merger-- for the firms\n",
    "for firm in merging_firms:\n",
    "    efficiency_gains[firm] = 0.0\n",
    "for firm in nonmerging_firms:\n",
    "    efficiency_gains[firm] = 0.0"
   ]
  },
  {
   "cell_type": "markdown",
   "metadata": {},
   "source": [
    "We create dictionaries for post merger market shares ($s_i^p$), elasticities ($\\varepsilon_{ij}^p$), margins ($\\mu_i^p$) and price changes ($\\delta_i$). Then we create a vector function with all the equations above. We look for the values of $s_i^p,\\varepsilon_{ij}^p,\\mu_i^p,\\delta_i$ such that this vector function equals zero (all equations are satisfied).\n",
    "\n",
    "We form a list of equations and append it with new equations. For a given guess of the values $s_i^p,\\varepsilon_{ij}^p,\\mu_i^p,\\delta_i$ `equations` returns the extent to which the equations are satisfied. If `equations`=0, all equations are satisfied and we find the post merger equilibrium."
   ]
  },
  {
   "cell_type": "code",
   "execution_count": 8,
   "metadata": {
    "collapsed": true
   },
   "outputs": [],
   "source": [
    "post_marketshare = {}\n",
    "post_elasticity = {}\n",
    "post_margin = {}\n",
    "price_change = {}\n",
    "\n",
    "def vector_function(post_marketshare,post_elasticity,post_margin,price_change):\n",
    "    equations = []\n",
    "    for firm in sorted(firms):\n",
    "        equations.append(post_marketshare[firm]-(market_share[firm]+sum([b[firm,other_firm]*log(1+price_change[other_firm]) for other_firm in firms])))\n",
    "        equations.append(post_margin[firm] - (1-(1+efficiency_gains[firm])/(1+price_change[firm])*(1-margin[firm])))\n",
    "    for firm in sorted(nonmerging_firms):\n",
    "        equations.append(post_margin[firm] + 1/post_elasticity[firm,firm])\n",
    "        equations.append(post_elasticity[firm,firm] - (-1 + b[firm,firm]/post_marketshare[firm]+post_marketshare[firm]*(market_elasticity+1)))\n",
    "    for firm in sorted(merging_firms):\n",
    "        equations.append(post_marketshare[firm]+sum(post_elasticity[other_firm,firm]*post_marketshare[other_firm]*post_margin[other_firm] for other_firm in sorted(merging_firms)))\n",
    "        for other_firm in sorted(merging_firms):\n",
    "            equations.append(post_elasticity[firm,other_firm] - (-(firm==other_firm) + b[firm,other_firm]/post_marketshare[firm]+post_marketshare[other_firm]*(market_elasticity+1)))\n",
    "    return equations    "
   ]
  },
  {
   "cell_type": "markdown",
   "metadata": {},
   "source": [
    "As the solver works with a vector $x$ for the values (not a collection of dictionaries), we define a wrapper function which turns $x$ to the values in the dictionaries. Once we have the solution $x$ we 'unwrap' it into values for our dictionaries."
   ]
  },
  {
   "cell_type": "code",
   "execution_count": 9,
   "metadata": {
    "collapsed": true
   },
   "outputs": [],
   "source": [
    "def wrapper_function(x): # the solver used below needs a vector x as input, not a collection of dictionaries\n",
    "    counter = 0\n",
    "    for dict in [post_marketshare,post_margin,price_change]:\n",
    "        for firm in sorted(firms):\n",
    "            dict[firm] = x[counter]\n",
    "            counter +=1\n",
    "    for firm in sorted(nonmerging_firms):\n",
    "        post_elasticity[firm, firm] = x[counter]\n",
    "        counter +=1\n",
    "    for firm in sorted(merging_firms):\n",
    "        for other_firm in sorted(merging_firms):\n",
    "            post_elasticity[firm, other_firm] = x[counter]\n",
    "            counter +=1\n",
    "    return vector_function(post_marketshare,post_elasticity,post_margin,price_change)\n",
    "\n",
    "def unwrap(x):   # once we have the equilibrium solution as a vector x, we go back to dictionaries \n",
    "    counter = 0  # as they are easier to work with\n",
    "    for dict in [post_marketshare,post_margin,price_change]:\n",
    "        for firm in sorted(firms):\n",
    "            dict[firm] = x[counter]\n",
    "            counter +=1\n",
    "    for firm in sorted(nonmerging_firms):\n",
    "        post_elasticity[firm, firm] = x[counter]\n",
    "        counter +=1\n",
    "    for firm in sorted(merging_firms):\n",
    "        for other_firm in sorted(merging_firms):\n",
    "            post_elasticity[firm, other_firm] = x[counter]\n",
    "            counter +=1\n",
    "    return [post_marketshare,post_elasticity,post_margin,price_change]"
   ]
  },
  {
   "cell_type": "markdown",
   "metadata": {},
   "source": [
    "The solver needs an initial guess for the post merger solution; we use the pre-merger values as initial guess."
   ]
  },
  {
   "cell_type": "code",
   "execution_count": 10,
   "metadata": {
    "collapsed": true
   },
   "outputs": [],
   "source": [
    "def initial_value(): # initial value based on before merger values\n",
    "    x = []\n",
    "    for dict in [market_share,margin]:\n",
    "        for firm in sorted(firms):\n",
    "            x.append(dict[firm])\n",
    "    for firm in sorted(firms):\n",
    "        x.append(0.0) # price change\n",
    "    for firm in sorted(nonmerging_firms):\n",
    "        x.append(elasticity[firm, firm])\n",
    "    for firm in sorted(merging_firms):\n",
    "        for other_firm in sorted(merging_firms):\n",
    "            x.append(elasticity[firm, other_firm])\n",
    "    return x    "
   ]
  },
  {
   "cell_type": "markdown",
   "metadata": {},
   "source": [
    "We use the `fsolve` routine to find the values where `vector_function` equals 0 (where all equations hold). We solve this \"via\" `wrapper_function` as `fsolve` expects a vector $x$ as input, not a list of dictionaries. We print the relevant post merger values in a table."
   ]
  },
  {
   "cell_type": "code",
   "execution_count": 11,
   "metadata": {
    "collapsed": true
   },
   "outputs": [],
   "source": [
    "def after_merger_values():\n",
    "    outcome = unwrap(optimize.fsolve(wrapper_function, initial_value()))\n",
    "    table = ListTable()\n",
    "    table.append(['firm', 'marketshare','margin','price increase'])\n",
    "    for firm in firms:\n",
    "        table.append([firm, \"{:.3f}\".format(outcome[0][firm]),\"{:.3f}\".format(outcome[2][firm]),\"{:.3f}\".format(outcome[3][firm])])\n",
    "    print(\"table of post merger outcomes:\")\n",
    "    return table            "
   ]
  },
  {
   "cell_type": "code",
   "execution_count": 12,
   "metadata": {},
   "outputs": [
    {
     "name": "stdout",
     "output_type": "stream",
     "text": [
      "table of post merger outcomes:\n"
     ]
    },
    {
     "data": {
      "text/html": [
       "<table><tr><td>firm</td><td>marketshare</td><td>margin</td><td>price increase</td></tr><tr><td>firm1</td><td>0.174</td><td>0.414</td><td>0.138</td></tr><tr><td>firm2</td><td>0.281</td><td>0.425</td><td>0.108</td></tr><tr><td>firm3</td><td>0.546</td><td>0.466</td><td>0.041</td></tr></table>"
      ],
      "text/plain": [
       "[['firm', 'marketshare', 'margin', 'price increase'],\n",
       " ['firm1', '0.174', '0.414', '0.138'],\n",
       " ['firm2', '0.281', '0.425', '0.108'],\n",
       " ['firm3', '0.546', '0.466', '0.041']]"
      ]
     },
     "execution_count": 12,
     "metadata": {},
     "output_type": "execute_result"
    }
   ],
   "source": [
    "after_merger_values()"
   ]
  },
  {
   "cell_type": "markdown",
   "metadata": {},
   "source": [
    "As one would expect, a merger between firms producing substitutes with no efficiency gains leads to higher prices for all firms. The market share of the firm that does not merge (firm3) increases due to the merger as prices increase more for the merging firms."
   ]
  }
 ],
 "metadata": {
  "kernelspec": {
   "display_name": "Python 3",
   "language": "python",
   "name": "python3"
  },
  "language_info": {
   "codemirror_mode": {
    "name": "ipython",
    "version": 3
   },
   "file_extension": ".py",
   "mimetype": "text/x-python",
   "name": "python",
   "nbconvert_exporter": "python",
   "pygments_lexer": "ipython3",
   "version": "3.6.3"
  },
  "toc": {
   "base_numbering": 1,
   "nav_menu": {},
   "number_sections": true,
   "sideBar": true,
   "skip_h1_title": false,
   "title_cell": "Table of Contents",
   "title_sidebar": "Contents",
   "toc_cell": false,
   "toc_position": {},
   "toc_section_display": true,
   "toc_window_display": false
  }
 },
 "nbformat": 4,
 "nbformat_minor": 1
}
