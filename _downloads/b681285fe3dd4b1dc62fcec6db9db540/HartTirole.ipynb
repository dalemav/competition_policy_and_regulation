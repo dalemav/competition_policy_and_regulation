{
 "cells": [
  {
   "cell_type": "markdown",
   "metadata": {},
   "source": [
    "# Python: intrabrand competition\n",
    "\n",
    "In the Hart and Tirole (1990) set up, the equilibrium is different from the standard one. Contracts are not publicly observable and agents have passive beliefs. This leads to a different definition of equilibrium than we have used before.\n",
    "\n",
    "This notebook shows you to derive an equilibrium numerically in this set up.\n",
    "\n",
    "First, we import the libraries that we need."
   ]
  },
  {
   "cell_type": "code",
   "execution_count": 1,
   "metadata": {
    "collapsed": true
   },
   "outputs": [],
   "source": [
    "from scipy import optimize,arange\n",
    "from numpy import array\n",
    "import matplotlib.pyplot as plt\n",
    "%matplotlib inline"
   ]
  },
  {
   "cell_type": "markdown",
   "metadata": {},
   "source": [
    "## demand, costs and profits\n",
    "\n",
    "We consider the model in the lecture with one Upstream firm $U$ and two Downstream firms $D_1,D_2$. We assume linear demand $p(x_1,x_2)=1-x_1-x_2$ and zero costs both upstream and downstream, $c=\\gamma=0$."
   ]
  },
  {
   "cell_type": "code",
   "execution_count": 2,
   "metadata": {
    "collapsed": true
   },
   "outputs": [],
   "source": [
    "c = 0\n",
    "gamma = 0\n",
    "def demand(x1,x2):\n",
    "    return 1-x1-x2\n",
    "def profit_D(x1,x2):\n",
    "    return demand(x1,x2)*x1-gamma*x1"
   ]
  },
  {
   "cell_type": "markdown",
   "metadata": {},
   "source": [
    "## public contracts\n",
    "\n",
    "With public contracts and two part tariffs, $U$ can appropriate all rents from the downstream firms. Hence, $U$ sets $x_1,x_2$ to maximize the sum of downstream profits $\\pi(x_1,x_2)+\\pi(x_2,x_1)-c(x_1+x_2)$."
   ]
  },
  {
   "cell_type": "code",
   "execution_count": 3,
   "metadata": {
    "collapsed": false
   },
   "outputs": [
    {
     "name": "stdout",
     "output_type": "stream",
     "text": [
      "[  2.01328278e-04   4.99790473e-01]\n"
     ]
    }
   ],
   "source": [
    "def minus_industry_profits(vx):\n",
    "    return -(profit_D(vx[0],vx[1])+profit_D(vx[1],vx[0])-c*(vx[0]+vx[1])) \n",
    "    # the optimize.brute routine that we use, minimizes a function\n",
    "\n",
    "public_contracts = optimize.brute(minus_industry_profits, ((0.0,1.0),(0.0,1.0),))\n",
    "print public_contracts"
   ]
  },
  {
   "cell_type": "markdown",
   "metadata": {},
   "source": [
    "Now what does this mean?"
   ]
  },
  {
   "cell_type": "markdown",
   "metadata": {},
   "source": [
    "## private contracts\n",
    "\n",
    "With private contracts, $D_i$ cannot observe the output level $x_j$ in $D_j$'s contract. Hence, the amount $D_i$ is willing to pay $U$ cannot be $\\pi_i(x_i,x_j)$ as $D_i$ does not know $x_j$.\n",
    "\n",
    "$D_i$ can have an expectation about $x_j$; this expectation we denote $x_j^e$. In equilibrium, this expectation has to be correct: $x_j^e = x_j$. Further, we assume passive beliefs; that is, if $D_i$ gets a deviation offer $\\tilde x_i \\neq x_i$, $D_i$ does not change $x_j^e$.\n",
    "\n",
    "Hence, given belief $x_j^e$, the optimal offer $x_i$ to $D_i$ solves\n",
    "$$\n",
    "\\max_x \\pi(x,x_j^e) - cx\n",
    "$$\n",
    "\n",
    "The function `reaction_U` calculates $U$'s optimal reaction to `beliefs` $x_1^e,x_2^e$."
   ]
  },
  {
   "cell_type": "code",
   "execution_count": 4,
   "metadata": {
    "collapsed": true
   },
   "outputs": [],
   "source": [
    "def reaction_U(beliefs): # beliefs[0] is D_2's belief about x1; beliefs[1] is D_1's belief about x2\n",
    "    x1 = optimize.brute(lambda x: -(profit_D(x,beliefs[1])-c*x), ((0,1,),))\n",
    "    x2 = optimize.brute(lambda x: -(profit_D(x,beliefs[0])-c*x), ((0,1,),))\n",
    "    return [x1[0],x2[0]]"
   ]
  },
  {
   "cell_type": "markdown",
   "metadata": {},
   "source": [
    "## symmetric equilibrium\n",
    "\n",
    "In a symmtric equilibrium we must have that\n",
    "$$\n",
    "x = \\arg\\max_{x'} \\pi(x',x)-cx'\n",
    "$$\n",
    "\n",
    "That is, it is optimal for $U$ to offer $D_i$ output level $x' = x$ while $D_i$ believes that $x_j=x_j^e=x$.\n",
    "\n",
    "In other words, we are looking for the intersection point of the optimal reaction to belief $x_i^e$ and the 45-degree line:"
   ]
  },
  {
   "cell_type": "code",
   "execution_count": 8,
   "metadata": {
    "collapsed": false
   },
   "outputs": [
    {
     "data": {
      "image/png": "[encoded data removed]",
      "text/plain": [
       "<matplotlib.figure.Figure at 0x103927d10>"
      ]
     },
     "metadata": {},
     "output_type": "display_data"
    }
   ],
   "source": [
    "range_beliefs = arange(0.0,1.01,0.01)\n",
    "range_x = [reaction_U([x,x])[0] for x in range_beliefs]\n",
    "\n",
    "plt.clf()\n",
    "plt.plot(range_beliefs, range_x,'-', color = 'r', linewidth = 2)\n",
    "plt.plot(range_beliefs, range_beliefs,'-', color = 'b', linewidth = 2)\n",
    "plt.title(\"Equilibrium passive beliefs\",fontsize = 15)\n",
    "plt.xlabel(\"$x_j^e$\",fontsize = 15)\n",
    "plt.ylabel(\"$x_i$\",fontsize = 15,rotation = 90)\n",
    "# plt.xlim(c,1.0)\n",
    "# plt.ylim(0.0,0.3)\n",
    "plt.savefig('passive_beliefs.png')"
   ]
  },
  {
   "cell_type": "markdown",
   "metadata": {},
   "source": [
    "To find the equilibrium, we define a fixed point mapping. That is, if beliefs are $x$, then the optimal reaction by $U$ to these beliefs should also be $x$ (think of $x$ either as a vector here or as a scalar with $x_1=x_2=x$).\n",
    "\n",
    "From the graph we guess that the equilibrium is around $x=0.3$"
   ]
  },
  {
   "cell_type": "code",
   "execution_count": 9,
   "metadata": {
    "collapsed": false
   },
   "outputs": [
    {
     "name": "stdout",
     "output_type": "stream",
     "text": [
      "[ 0.33332648  0.33332648]\n"
     ]
    }
   ],
   "source": [
    "x0 = [0.3,0.3]\n",
    "\n",
    "def fixed_point(x):\n",
    "    return x - reaction_U(x)\n",
    "ans = optimize.fsolve(fixed_point, x0, args = ())\n",
    "print ans"
   ]
  },
  {
   "cell_type": "markdown",
   "metadata": {},
   "source": [
    "Indeed, as we found in the lecture, the optimal output level with two downstrea firms equals the duopoloy Cournot output level."
   ]
  },
  {
   "cell_type": "code",
   "execution_count": null,
   "metadata": {
    "collapsed": true
   },
   "outputs": [],
   "source": []
  }
 ],
 "metadata": {
  "kernelspec": {
   "display_name": "Python 2",
   "language": "python",
   "name": "python2"
  },
  "language_info": {
   "codemirror_mode": {
    "name": "ipython",
    "version": 2
   },
   "file_extension": ".py",
   "mimetype": "text/x-python",
   "name": "python",
   "nbconvert_exporter": "python",
   "pygments_lexer": "ipython2",
   "version": "2.7.6"
  }
 },
 "nbformat": 4,
 "nbformat_minor": 0
}
