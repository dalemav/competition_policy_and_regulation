{
 "cells": [
  {
   "cell_type": "markdown",
   "metadata": {},
   "source": [
    "# Python: collusion with Bertrand competition\n",
    "\n",
    "In this notebook we consider collusion with Bertrand competition. However, we do not specify a demand function. We start from consumers' utility and then derive demand from that.\n",
    "\n",
    "With Bertrand competition it turns out that defining the best response numerically is a bit tricky..."
   ]
  },
  {
   "cell_type": "code",
   "execution_count": 1,
   "metadata": {
    "collapsed": false
   },
   "outputs": [],
   "source": [
    "from scipy import optimize,arange\n",
    "from numpy import array\n",
    "import matplotlib.pyplot as plt\n",
    "%matplotlib inline"
   ]
  },
  {
   "cell_type": "markdown",
   "metadata": {},
   "source": [
    "## utility structure and demand\n",
    "\n",
    "Assume that a consumer buys either one product or none at all. A consumer of type $n$ values buying a product at price $p$ at $n-p$. Her outside option is normalized at 0. Hence, she only buys the good if $n-p \\geq 0$.\n",
    "\n",
    "Total demand is then given by all consumers with $n \\geq p$."
   ]
  },
  {
   "cell_type": "code",
   "execution_count": 2,
   "metadata": {
    "collapsed": false
   },
   "outputs": [],
   "source": [
    "def u(p,n): # utility for consumer who values good at n\n",
    "    return n-p\n",
    "\n",
    "consumer_types = arange(0.0,1.01,0.01) # 100 consumers with n varying between 0 and 1\n",
    "\n",
    "def buy(p,n):\n",
    "    if u(p,n) >= 0:\n",
    "        buy = 1.0\n",
    "    else:\n",
    "        buy = 0.0\n",
    "    return buy\n",
    "\n",
    "def total_demand(p): # total demand equals the sum of demands of consumers n for all consumer_types\n",
    "    demand_vector = [buy(p,n)/len(consumer_types) for n in consumer_types]\n",
    "    return sum(demand_vector)\n",
    "    \n"
   ]
  },
  {
   "cell_type": "markdown",
   "metadata": {},
   "source": [
    "## profits and reaction functions\n",
    "\n",
    "We consider a duopoly with firms 1 and 2. Consumers buy from the cheapest firm or choose a firm randomly if both charge the same price. Firm $i$ has constant marginal cost of production $c_i$ and no fixed cost.\n",
    "\n",
    "Let $x(p)$ denote total demand at price $p$. Then profits equal:\n",
    "\n",
    "$$\n",
    "\\pi_i(p_i,p_j) = \n",
    "\\begin{cases}\n",
    "0 & \\text{ if } p_i > p_j \\\\\n",
    "0.5*x(p_i)(p_i-c_i) &\\text{ if } p_i = p_j \\\\\n",
    "x(p_i)(p_i-c_i) &\\text{ if } p_i < p_j\n",
    "\\end{cases}\n",
    "$$\n",
    "\n",
    "With this profit function, firm $i$ chooses $p_i$ optimally, given $p_j$. Analytically, this implies for $p_j \\in \\langle c_1, p_1^m \\rangle$ setting $p_i = p_j -\\varepsilon$ for $\\varepsilon > 0$ small. \n",
    "\n",
    "* Why can't we use this here?\n",
    "* Give the intuition for the reaction function specified below; why is it not optimal?"
   ]
  },
  {
   "cell_type": "code",
   "execution_count": 19,
   "metadata": {
    "collapsed": false
   },
   "outputs": [],
   "source": [
    "def profit(p1,p2,c1):\n",
    "    if p1 > p2:\n",
    "        profits = 0\n",
    "    elif p1 == p2:\n",
    "        profits = 0.5*total_demand(p1)*(p1-c1)\n",
    "    else:\n",
    "        profits = total_demand(p1)*(p1-c1)\n",
    "    return profits\n",
    "\n",
    "def reaction(p2,c1):\n",
    "    if p2 > c1:\n",
    "        reaction = c1+0.8*(p2-c1)\n",
    "    else:\n",
    "        reaction = c1\n",
    "    return reaction\n",
    "    \n"
   ]
  },
  {
   "cell_type": "markdown",
   "metadata": {},
   "source": [
    "## equilibrium\n",
    "\n",
    "We define the Bertrand equilibrium as a fixed point to a mapping from $p_1,p_2$ to the optimal response of firm 1 and 2 to these values of $p_1,p_2$. This is done in the same way as in the Cournot file.\n",
    "\n",
    "We specify symmetric firms $c_1=c_2=0.0$ and give initial guess $p_0$ for equilibrium prices."
   ]
  },
  {
   "cell_type": "code",
   "execution_count": 20,
   "metadata": {
    "collapsed": false
   },
   "outputs": [
    {
     "name": "stdout",
     "output_type": "stream",
     "text": [
      "[  4.94065646e-324   4.94065646e-324]\n"
     ]
    }
   ],
   "source": [
    "def vector_reaction(p,param): # vector param = (c1,c2)\n",
    "    return array(p)-array([reaction(p[1],param[0]),reaction(p[0],param[1])])\n",
    "\n",
    "param = [0.0,0.0] # c1 = c2 =0\n",
    "p0 = [0.5, 0.5] # initial guess: p1 = p2 = 0.5\n",
    "\n",
    "ans = optimize.fsolve(vector_reaction, p0, args = (param))\n",
    "print ans\n"
   ]
  },
  {
   "cell_type": "markdown",
   "metadata": {},
   "source": [
    "The outcome is what we would expect: $p_1 = p_2 = c_1 = c_2 = 0.0$. Bertrand competition with homogeneous goods and constant average costs leads to price equal marginal costs."
   ]
  },
  {
   "cell_type": "markdown",
   "metadata": {},
   "source": [
    "## collusion\n",
    "\n",
    "Now we are going to see whether firms can collude on a price $p$. As with Cournot, we focus on the symmetric case where $c_1 = c_2 =c$ and $p_1 = p_2 =p$.\n",
    "\n",
    "With Cournot we defined the deviation (from collusion) profit using the firm's optimal response. \n",
    "\n",
    "* Why don't we use this here?\n",
    "* Why is the optimal deviation profit correct? "
   ]
  },
  {
   "cell_type": "code",
   "execution_count": 21,
   "metadata": {
    "collapsed": false
   },
   "outputs": [],
   "source": [
    "def collusion_profits(p,c,delta): # we only do this for the symmetric case: c1 = c2 = c\n",
    "    profits = profit(p,p,c)\n",
    "    ans = optimize.fsolve(vector_reaction, p0, args = ([c,c]))\n",
    "    if profits >= (1-delta)*2*profits+delta*profit(ans[0],ans[1],c):\n",
    "        industry_profits = 2*profits\n",
    "    else:\n",
    "        industry_profits = 0\n",
    "    return industry_profits\n"
   ]
  },
  {
   "cell_type": "markdown",
   "metadata": {},
   "source": [
    "## maximum collusion profits\n",
    "\n",
    "To see which prices can be sustained as collusion profits and to see which price maximizes collusion profits, let's plot collusion profits as a function of $p$. Here we work with constant marginal costs equal to $c = 0.2$.\n",
    "\n",
    "The red line plots collusion profits for $\\delta_1 = 0.8$ and the blue line for $\\delta_2 = 0.4$.\n",
    "\n",
    "* Why is the blue line (if you can see it...) horizontal at 0?\n",
    "* What is the profit maximizing price with the red line?\n",
    "* How does this compare to the condition on collusion derived in the lecture?"
   ]
  },
  {
   "cell_type": "code",
   "execution_count": 22,
   "metadata": {
    "collapsed": false
   },
   "outputs": [
    {
     "data": {
      "image/png": "[encoded data removed]",
      "text/plain": [
       "<matplotlib.figure.Figure at 0x10f31fd50>"
      ]
     },
     "metadata": {},
     "output_type": "display_data"
    }
   ],
   "source": [
    "c = 0.2\n",
    "range_p = arange(0.0,1.01,0.01)\n",
    "delta1 = 0.8\n",
    "delta2 = 0.4\n",
    "\n",
    "range_profits = [collusion_profits(p,c,delta1) for p in range_p]\n",
    "range_profits_2 = [collusion_profits(p,c,delta2) for p in range_p]\n",
    "\n",
    "plt.clf()\n",
    "plt.plot(range_p, range_profits,'-', color = 'r', linewidth = 2)\n",
    "plt.plot(range_p, range_profits_2,'-', color = 'b', linewidth = 2)\n",
    "plt.title(\"Collusion profits\",fontsize = 15)\n",
    "plt.xlabel(\"price\",fontsize = 15)\n",
    "plt.ylabel(\"profits\",fontsize = 15,rotation = 90)\n",
    "plt.xlim(c,1.0)\n",
    "plt.ylim(0.0,0.2)\n",
    "plt.savefig('collusion_Bertrand.png')"
   ]
  },
  {
   "cell_type": "markdown",
   "metadata": {},
   "source": [
    "## welfare\n",
    "\n",
    "Finally, let's consider total welfare as a function of price. \n",
    "\n",
    "* At which price $p$ is welfare maximized? Why?"
   ]
  },
  {
   "cell_type": "code",
   "execution_count": 23,
   "metadata": {
    "collapsed": false
   },
   "outputs": [
    {
     "data": {
      "image/png": "[encoded data removed]",
      "text/plain": [
       "<matplotlib.figure.Figure at 0x10fe72450>"
      ]
     },
     "metadata": {},
     "output_type": "display_data"
    }
   ],
   "source": [
    "def welfare(p):\n",
    "    welfare = sum([u(c,n)*buy(p,n)/len(consumer_types) for n in consumer_types])\n",
    "    return welfare\n",
    "\n",
    "range_welfare = [welfare(p) for p in range_p]\n",
    "\n",
    "plt.clf()\n",
    " \n",
    "plt.plot(range_p, range_welfare,'-', color = 'r', linewidth = 2)\n",
    "plt.title(\"welfare\",fontsize = 15)\n",
    "plt.xlabel(\"$p$\",fontsize = 15)\n",
    "plt.ylabel(\"$W$\",fontsize = 15)\n",
    "plt.xlim(0.0,1.0)\n",
    "plt.savefig('welfare.png')"
   ]
  },
  {
   "cell_type": "code",
   "execution_count": null,
   "metadata": {
    "collapsed": false
   },
   "outputs": [],
   "source": []
  }
 ],
 "metadata": {
  "kernelspec": {
   "display_name": "Python 2",
   "language": "python",
   "name": "python2"
  },
  "language_info": {
   "codemirror_mode": {
    "name": "ipython",
    "version": 2
   },
   "file_extension": ".py",
   "mimetype": "text/x-python",
   "name": "python",
   "nbconvert_exporter": "python",
   "pygments_lexer": "ipython2",
   "version": "2.7.6"
  }
 },
 "nbformat": 4,
 "nbformat_minor": 0
}
