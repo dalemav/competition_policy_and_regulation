{
 "cells": [
  {
   "cell_type": "markdown",
   "metadata": {
    "slideshow": {
     "slide_type": "slide"
    }
   },
   "source": [
    "# Python: risk adjustment\n",
    "\n",
    "In this notebook we show how risk adjustment helps to increase efficiency in a health insurance market.\n",
    "\n",
    "First, we import some libraries:"
   ]
  },
  {
   "cell_type": "code",
   "execution_count": 1,
   "metadata": {
    "collapsed": false,
    "slideshow": {
     "slide_type": "subslide"
    }
   },
   "outputs": [],
   "source": [
    "from scipy import optimize,arange\n",
    "from numpy import array\n",
    "import matplotlib.pyplot as plt\n",
    "%matplotlib inline"
   ]
  },
  {
   "cell_type": "markdown",
   "metadata": {
    "slideshow": {
     "slide_type": "slide"
    }
   },
   "source": [
    "There are two types of agents: agents with high (low) expected health care costs $\\theta^h(\\theta^l)$ where $\\theta^i$ denotes the expected costs of agent $i \\in \\{l,h\\}$. The fraction of $\\theta^h$ agents is given by $\\phi \\in [0,1]$.\n",
    "\n",
    "When an agent buys health insurance, he buys a fraction $q \\in [0,1]$ of the costs that will be covered by the insurer. Hence, his expected costs equal $(1-q)\\theta$. The variance of costs is given by $\\sigma^2$ for both types; hence after buying insurance, the variance is given by $(1-q)^2 \\sigma^2$.\n",
    "\n",
    "Assume agents have mean-variance utility:\n",
    "\n",
    "$$\n",
    "u = w - p - (1-q)\\theta - 0.5 \\rho (1-q)^2 \\sigma^2\n",
    "$$\n",
    "\n",
    "where $w$ denotes the agent's wealth (same for both types), $p$ the insurance premium and $\\rho>0$ measures the agent's risk aversion. With $\\rho =0$, the agent is risk neutral and there is no reason to buy insurance.\n",
    "\n",
    "We assume perfect competition in the health insurance market; where we use the perfect competition definition by Rothschild and Stiglitz. In our context that implies that the insurance premium equals the expected cost for the insurer. Hence, a contract $q^i$ at price $p^i$ sold to type $\\theta^i$ only satisfies $p^i = q^i \\theta^i$.\n",
    "\n",
    "If a contract $p,q$ is sold to both types (pooling contract), we have $p = q(\\phi \\theta^h + (1-\\phi)\\theta^l)$.\n",
    "\n",
    "Risk adjustment is a subsidy paid by the payer (say, the government) to an insurer with a high cost customer. In particular, the government pays an insurer $r^h = r$ for each $\\theta^h$ customer that the insurer has. We normalize the risk adjustment budget here at 0: $\\phi r^h + (1-\\phi)r^l =0$. With $r^h =r$, it follows that\n",
    "\n",
    "$$\n",
    "r^l = -\\frac{\\phi}{1-\\phi} r\n",
    "$$\n",
    "\n",
    "Hence, the expressions with $r$ in the functions `p_low` and `p_high` below.\n",
    "\n",
    "* Why is there no $r$ in the function `p_pooled`?\n"
   ]
  },
  {
   "cell_type": "code",
   "execution_count": 2,
   "metadata": {
    "collapsed": false,
    "slideshow": {
     "slide_type": "subslide"
    }
   },
   "outputs": [],
   "source": [
    "w = 1.0\n",
    "rho = 1.0\n",
    "sigma = 1.0\n",
    "phi = 0.5\n",
    "theta_h = 2.0\n",
    "theta_l = 1.0\n",
    "range_q = arange(0.0,1.01,0.01)\n",
    "\n",
    "def u(q,p,theta):\n",
    "    return w - p - (1-q)*theta - 0.5*rho*(1-q)**2*sigma**2\n",
    "\n",
    "def p_low(q,r):\n",
    "    return (theta_l+phi/(1-phi)*r)*q\n",
    "\n",
    "def p_high(q,r):\n",
    "    return (theta_h-r)*q\n",
    "\n",
    "def p_pooled(q):\n",
    "    return (phi*theta_h+(1-phi)*theta_l)*q\n"
   ]
  },
  {
   "cell_type": "markdown",
   "metadata": {
    "slideshow": {
     "slide_type": "slide"
    }
   },
   "source": [
    "An indifference curve in $(q,p)$ space is defined as $u(q,p) = \\bar u$ for some $\\bar u >0$. Because of the mean variance utility, we can write an indifference curce as\n",
    "\n",
    "$$\n",
    "p = u(q,0) - \\bar u\n",
    "$$"
   ]
  },
  {
   "cell_type": "code",
   "execution_count": 3,
   "metadata": {
    "collapsed": false,
    "slideshow": {
     "slide_type": "subslide"
    }
   },
   "outputs": [],
   "source": [
    "def indifference_curve(utility,theta):\n",
    "    vector = [max(0,u(q,0,theta)-utility) for q in range_q]\n",
    "    return vector"
   ]
  },
  {
   "cell_type": "markdown",
   "metadata": {
    "slideshow": {
     "slide_type": "slide"
    }
   },
   "source": [
    "## no pooling equilibrium\n",
    "\n",
    "Ideally, both types are pooled on a full insurance contract. As both types are risk averse and insurers are risk neutral, $q=1$ is efficient from a social point of view. With second degree price discrimination, there cannot be two contracts with $q=1$: indeed, both types would buy the cheapest contract (only). \n",
    "\n",
    "Hence, the efficient contract with $q=1$ for both types must be a pooling contract with $p = \\phi \\theta^h +(1-\\phi) \\theta^l$. \n",
    "\n",
    "So the question is: is there an equilibrium where all insurers offer $q=1$ at pemium $p = \\phi \\theta^h +(1-\\phi) \\theta^l$? If such an equilibrium exists, the situation is as drawn in the figure below.\n",
    "\n",
    "This figure plots the pooling price $p = q(\\phi \\theta^h +(1-\\phi) \\theta^l)$ and the costs of offering a contract aimed at low types only: $p^l = q \\theta^l$. Further, the (blue) indifference curves are drawn for both types; indifference curves that go thorugh the pooling contract."
   ]
  },
  {
   "cell_type": "code",
   "execution_count": 56,
   "metadata": {
    "collapsed": false,
    "slideshow": {
     "slide_type": "subslide"
    }
   },
   "outputs": [
    {
     "data": {
      "image/png": "[encoded data removed]",
      "text/plain": [
       "<matplotlib.figure.Figure at 0x1109abed0>"
      ]
     },
     "metadata": {},
     "output_type": "display_data"
    }
   ],
   "source": [
    "r = 0.0\n",
    "range_p_high = [p_high(q,r) for q in range_q]\n",
    "range_p_low = [p_low(q,r) for q in range_q]\n",
    "range_p_pooled = [p_pooled(q) for q in range_q]\n",
    "\n",
    "plt.clf()\n",
    "plt.plot(range_q, range_p_pooled,'--', color = 'r', linewidth = 2)\n",
    "plt.plot(range_q, indifference_curve(u(1,p_pooled(1),theta_h),theta_h),'-', color = 'b', linewidth = 2)\n",
    "plt.plot(range_q, indifference_curve(u(1,p_pooled(1),theta_l),theta_l),'-', color = 'b', linewidth = 2)\n",
    "plt.plot(range_q, range_p_low,'-', color = 'r', linewidth = 2)\n",
    "\n",
    "lower_bound = [max(p_low(q,r),u(q,0,theta_h)-u(1,p_pooled(1),theta_h)) for q in range_q]\n",
    "plt.fill_between(range_q,lower_bound, indifference_curve(u(1,p_pooled(1),theta_l),theta_l),color='yellow')\n",
    "\n",
    "plt.annotate('$u^l$', xy=(0.5,u(0.5,0,theta_l)-u(1,p_pooled(1),theta_l)),  xycoords='data', # here we define the labels and arrows in the graph\n",
    "              xytext=(-30, 40), textcoords='offset points', size = 20,\n",
    "              arrowprops=dict(arrowstyle=\"->\", linewidth = 2,\n",
    "                              connectionstyle=\"arc3,rad=.2\"),\n",
    "              )\n",
    "\n",
    "plt.annotate('$p^l=q\\\\theta^l$', xy=(0.8,p_low(0.8,r)),  xycoords='data', # here we define the labels and arrows in the graph\n",
    "              xytext=(3, -40), textcoords='offset points', size = 20,\n",
    "              arrowprops=dict(arrowstyle=\"->\", linewidth = 2,\n",
    "                              connectionstyle=\"arc3,rad=.2\"),\n",
    "              )\n",
    "plt.annotate('$u^h$', xy=(0.5,u(0.5,0,theta_h)-u(1,p_pooled(1),theta_h)),  xycoords='data', # here we define the labels and arrows in the graph\n",
    "              xytext=(30, -40), textcoords='offset points', size = 20,\n",
    "              arrowprops=dict(arrowstyle=\"->\", linewidth = 2,\n",
    "                              connectionstyle=\"arc3,rad=.2\"),\n",
    "              )\n",
    "\n",
    "\n",
    "\n",
    "plt.title(\"pooling equilibrium?\",fontsize = 15)\n",
    "plt.xlabel(\"$q$\",fontsize = 15)\n",
    "plt.ylabel(\"$p$\",fontsize = 15,rotation = 90)\n",
    "# plt.xlim(c,1.0)\n",
    "# plt.ylim(0.0,0.3)\n",
    "plt.savefig('RS_equil_pooling.png')"
   ]
  },
  {
   "cell_type": "markdown",
   "metadata": {
    "slideshow": {
     "slide_type": "subslide"
    }
   },
   "source": [
    "The yellow area in the figure has the following characteristics:\n",
    "\n",
    "* lies below indifference curve $u^l$: the points in the yellow area are strictly prefered by $\\theta^l$ above the pooling contract;\n",
    "* lies above indifference curve $u^h$: $\\theta^h$ strictly prefers the pooling contract above the points in the yellow area\n",
    "* lies above $p^l = q \\theta^l$: an insurer offering a contract in the yellow area attracts low types only and makes a strictly positive profit on such a contract.\n",
    "\n",
    "As there is a profitable deviating offer, the pooling contract cannot be a perfectly competitive equilibrium outcome.\n",
    "\n",
    "* Can you redraw the figure with a pooling contract at some $q<1$? \n",
    "* Can such a pooling contract be sustained as equilibrium?"
   ]
  },
  {
   "cell_type": "markdown",
   "metadata": {
    "slideshow": {
     "slide_type": "slide"
    }
   },
   "source": [
    "## Rothschild and Stiglitz equilbrium without risk adjustment\n",
    "\n",
    "The following figure illustrates the Rothschild and Stiglitz equilibrium. As shown in the lecture, in such an equilibrium we have $q^h =1$: high cost type gets efficient insurance at a price equal to expected costs $p= \\theta^h$. \n",
    "\n",
    "The $\\theta^l$ contract needs to be chosen such that $\\theta^h$ does not buy this contract. Further, insurers cannot make a profit on this contract (under perfect competition). Hence the contract is determined by the intersection of:\n",
    "\n",
    "* $u^h$ indifference curve through the $\\theta^h$ contract: $\\theta^h$ is indifferent between the contracts and buys the $\\theta^h$ contract\n",
    "* $p^l = q \\theta^l$: insurer makes zero profits on $\\theta^l$ contract.\n",
    "\n",
    "The function `q_RS` finds this intersection point as a function of risk adjustment $r$. First, we consider $r=0$."
   ]
  },
  {
   "cell_type": "code",
   "execution_count": 4,
   "metadata": {
    "collapsed": false,
    "slideshow": {
     "slide_type": "subslide"
    }
   },
   "outputs": [],
   "source": [
    "def q_RS(r):\n",
    "    solution = optimize.root(lambda x, r = r: u(x,p_low(x,r),theta_h)-u(1,p_high(1,r),theta_h), 0.5, args=(), method='hybr', jac=None, tol=10**(-10), callback=None, options=None)\n",
    "    return solution.x[0]"
   ]
  },
  {
   "cell_type": "code",
   "execution_count": 5,
   "metadata": {
    "collapsed": false,
    "slideshow": {
     "slide_type": "subslide"
    }
   },
   "outputs": [
    {
     "name": "stdout",
     "output_type": "stream",
     "text": [
      "low type gets q =  0.267949192431\n"
     ]
    },
    {
     "data": {
      "image/png": "[encoded data removed]",
      "text/plain": [
       "<matplotlib.figure.Figure at 0x10cf83510>"
      ]
     },
     "metadata": {},
     "output_type": "display_data"
    }
   ],
   "source": [
    "r = 0.0\n",
    "range_p_high = [p_high(q,r) for q in range_q]\n",
    "range_p_low = [p_low(q,r) for q in range_q]\n",
    "range_p_pooled = [p_pooled(q) for q in range_q]\n",
    "\n",
    "plt.clf()\n",
    "plt.plot(range_q, range_p_high,'-', color = 'r', linewidth = 2)\n",
    "plt.plot(range_q, range_p_pooled,'--', color = 'r', linewidth = 2)\n",
    "plt.plot(range_q, range_p_low,'-', color = 'r', linewidth = 2)\n",
    "plt.plot(range_q, indifference_curve(u(1,p_high(1,r),theta_h),theta_h),'-', color = 'b', linewidth = 2)\n",
    "plt.plot(range_q, indifference_curve(u(q_RS(r),p_low(q_RS(r),r),theta_l),theta_l),'-', color = 'b', linewidth = 2)\n",
    "\n",
    "contract_h = plt.plot(1.0,p_high(1,r), 'ro') # \n",
    "plt.setp(contract_h, 'markersize', 10)      \n",
    "plt.setp(contract_h, 'markerfacecolor', 'b')\n",
    "contract_l = plt.plot(q_RS(r),p_low(q_RS(r),r), 'ro') # \n",
    "plt.setp(contract_l, 'markersize', 10)           \n",
    "plt.setp(contract_l, 'markerfacecolor', 'b')\n",
    "\n",
    "\n",
    "\n",
    "plt.title(\"Rothschild and Stiglitz equilibrium\",fontsize = 15)\n",
    "plt.xlabel(\"$q$\",fontsize = 15)\n",
    "plt.ylabel(\"$p$\",fontsize = 15,rotation = 90)\n",
    "# plt.xlim(c,1.0)\n",
    "# plt.ylim(0.0,0.3)\n",
    "plt.savefig('RS_equil.png')\n",
    "\n",
    "print \"low type gets q = \", q_RS(r)"
   ]
  },
  {
   "cell_type": "markdown",
   "metadata": {
    "slideshow": {
     "slide_type": "subslide"
    }
   },
   "source": [
    "The figure uses two blue dots to illustrate the equilibrium contracts: \n",
    "\n",
    "* at the top right corner, the contract for $\\theta^h$ with $q=1.0$ and $p=\\theta^h = 2.0$;\n",
    "* close to the corner at the left bottom, the $\\theta^l$ contract with $q^l$ close to 0.27.\n",
    "\n",
    "As $q^l < 1$ and low types are risk averse, this contract is inefficient."
   ]
  },
  {
   "cell_type": "markdown",
   "metadata": {
    "slideshow": {
     "slide_type": "slide"
    }
   },
   "source": [
    "## risk adjustment\n",
    "\n",
    "Now suppose that the government introduces risk adjustment: $r > 0$. This implies the following changes:\n",
    "\n",
    "* $p^h$ falls to $p^h = \\theta^h -r$\n",
    "* hence the $u^h$ indifference curve through the efficient contract ($q^h=1,p^h=\\theta^h-r$) shifts downwards\n",
    "* the zero profit line for the low type $p^l = q(\\theta^l + \\phi/(1-\\phi) r)$ rotates upwards with $r$\n",
    "\n",
    "The last two effects raise the $q$ at which $p^l$ and indifference curve $u^h$ intersect. With $r=0.3$ we find $q^l = 0.56$ which is double the value for $q^l$ with $r=0.0$. Hence, efficiency increases with risk adjustment."
   ]
  },
  {
   "cell_type": "code",
   "execution_count": 42,
   "metadata": {
    "collapsed": false,
    "slideshow": {
     "slide_type": "subslide"
    }
   },
   "outputs": [
    {
     "name": "stdout",
     "output_type": "stream",
     "text": [
      "low type gets q =  0.56421833084\n"
     ]
    },
    {
     "data": {
      "image/png": "[encoded data removed]",
      "text/plain": [
       "<matplotlib.figure.Figure at 0x10f2a4a10>"
      ]
     },
     "metadata": {},
     "output_type": "display_data"
    }
   ],
   "source": [
    "r = 0.3\n",
    "range_p_high = [p_high(q,r) for q in range_q]\n",
    "range_p_low = [p_low(q,r) for q in range_q]\n",
    "range_p_pooled = [p_pooled(q) for q in range_q]\n",
    "\n",
    "plt.clf()\n",
    "plt.plot(range_q, range_p_high,'-', color = 'r', linewidth = 2)\n",
    "plt.plot(range_q, range_p_low,'-', color = 'r', linewidth = 2)\n",
    "plt.plot(range_q, range_p_pooled,'--', color = 'r', linewidth = 2)\n",
    "plt.plot(range_q, indifference_curve(u(1,p_high(1,r),theta_h),theta_h),'-', color = 'b', linewidth = 2)\n",
    "plt.plot(range_q, indifference_curve(u(q_RS(r),p_low(q_RS(r),r),theta_l),theta_l),'-', color = 'b', linewidth = 2)\n",
    "\n",
    "contract_h = plt.plot(1.0,p_high(1,r), 'ro') # \n",
    "plt.setp(contract_h, 'markersize', 10)      \n",
    "plt.setp(contract_h, 'markerfacecolor', 'b')\n",
    "contract_l = plt.plot(q_RS(r),p_low(q_RS(r),r), 'ro') # \n",
    "plt.setp(contract_l, 'markersize', 10)           \n",
    "plt.setp(contract_l, 'markerfacecolor', 'b')\n",
    "\n",
    "\n",
    "\n",
    "plt.title(\"Rothschild and Stiglitz equilibrium\",fontsize = 15)\n",
    "plt.xlabel(\"$q$\",fontsize = 15)\n",
    "plt.ylabel(\"$p$\",fontsize = 15,rotation = 90)\n",
    "# plt.xlim(c,1.0)\n",
    "plt.ylim(0.0,2.0)\n",
    "plt.savefig('RS_equil_ra.png')\n",
    "\n",
    "print \"low type gets q = \", q_RS(r)"
   ]
  },
  {
   "cell_type": "markdown",
   "metadata": {
    "slideshow": {
     "slide_type": "subslide"
    }
   },
   "source": [
    "As can be seen in the figure, there are two opposing effects on the utility for $\\theta^l$:\n",
    "\n",
    "* $q^l$ increases which raises the utility for $\\theta^l$\n",
    "* $p^l$ increases due to $r > 0$; risk adjustment is a cross subsidy from low to high types\n",
    "\n",
    "The overall effect on $\\theta^l$'s utility is ambiguous. \n",
    "\n",
    "* Calculate and compare the utility for $\\theta^l$ with $r=0.0$ and $r=3.0$; does $\\theta^l$ gain from risk adjustment in this example?"
   ]
  },
  {
   "cell_type": "markdown",
   "metadata": {
    "slideshow": {
     "slide_type": "slide"
    }
   },
   "source": [
    "## intuition\n",
    "\n",
    "The inefficiency in the equilibrium above is due to insurers' incentive to \"cherry pick\" low cost types. Insurers want to select low cost types and charge a high price to high cost types. These selection incentives cause the inefficiency: $q^l < 1$ to separate low from high types.\n",
    "\n",
    "As risk adjustment is introduced, the difference in (overall) expected costs between types for insurers is reduced. Due to the cross subsidy, high types are not so expensive anymore; nor are low types still so cheap to serve.\n",
    "\n",
    "As selection incentives are reduced, so is the inefficiency necessary to induce the separation.\n",
    "\n",
    "* What value $r^*$ would implement the efficient outcome ($q=1$) for both types?\n",
    "* What happens if $r>r^*$? Simply try in the notebook and explain the outcome."
   ]
  },
  {
   "cell_type": "code",
   "execution_count": null,
   "metadata": {
    "collapsed": false
   },
   "outputs": [],
   "source": []
  }
 ],
 "metadata": {
  "celltoolbar": "Slideshow",
  "kernelspec": {
   "display_name": "Python 2",
   "language": "python",
   "name": "python2"
  },
  "language_info": {
   "codemirror_mode": {
    "name": "ipython",
    "version": 2
   },
   "file_extension": ".py",
   "mimetype": "text/x-python",
   "name": "python",
   "nbconvert_exporter": "python",
   "pygments_lexer": "ipython2",
   "version": "2.7.6"
  }
 },
 "nbformat": 4,
 "nbformat_minor": 0
}
